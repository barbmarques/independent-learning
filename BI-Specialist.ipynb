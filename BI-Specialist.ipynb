{
 "cells": [
  {
   "cell_type": "markdown",
   "metadata": {},
   "source": [
    "# Notes from Linked In Learning\n",
    "## Become a Business Intelligence Specialist"
   ]
  },
  {
   "cell_type": "markdown",
   "metadata": {},
   "source": [
    "### Learning Power BI Desktop\n",
    "\n",
    "- Display recommendations:  1440x900 or 1600x900\n",
    "- Need 8 GB of RAM or better for the best Power BI experience\n",
    "- Initially built as a series of add-ins for Excel\n",
    "- Power BI Desktop can acquire, model, visualize and share data\n",
    "- Models built in Excel can be imported and used in Power BI\n",
    "- To share reports with colleagues, upload from Power BI Desktop to Power BI Service\n",
    "- can explore data using natural language Q&A\n",
    "- create and view dashboards\n",
    "- works with Microsoft Dynamics 365 or Salesforce\n",
    "\n",
    "Free Power BI:\n",
    "- 1 GB data limit  (10 GB for Pro)\n",
    "- Daily data refresh (hourly for Pro)\n",
    "- 10k rows/hr streaming data (1 million rows/hr for Pro)\n",
    "- Data via Power BI Service (Pro: direct interactive connection)\n",
    "\n",
    "\n",
    "\n",
    "\n",
    "\n"
   ]
  },
  {
   "cell_type": "markdown",
   "metadata": {},
   "source": [
    "### Financial Forecasting with Big Data\n",
    "\n",
    "- project cash flows, product pricing, equipment failures, defaults at a bank, customer couponing, facility locations\n",
    "- using regression to make forecasts\n",
    "- Use Excel Analysis Toolpak\n",
    "\n",
    "### AVOID THE HiPPO (highest paid person's opinion)\n",
    "- business decision making is a balance between data and our best professional judgment\n",
    "- put those things together to make an informed and reasonable decision for any big data question\n",
    "\n",
    "### Using BIG DATA in industries: \n",
    "- insurance (for pricing risk)\n",
    "- manufacturing firms have traditionally been reluctant to use big data\n",
    "- banks -- data on people borrowing money\n",
    "\n",
    "# STEPS in ALL Big Data Projects: \n",
    "- Gather/Clean Data\n",
    "- Analyze Data\n",
    "- Test Choices with Data\n",
    "- Make a Decision\n",
    "\n",
    "## What is business intelligence?\n",
    "- term coined in 1993\n",
    "- a group of statistical tools and processes used to help make decisions for a company\n",
    "- takes you from raw data to business insight\n",
    "- business intelligence combines data and models to help make choices\n",
    "\n",
    "![title](bi.png)\n",
    "\n",
    "\n",
    "\n"
   ]
  },
  {
   "cell_type": "markdown",
   "metadata": {},
   "source": [
    "## The twin paradigms that make things more difficult are:\n",
    "- uncertainty: all things that could happen that we hadn't thought about\n",
    "- complexity: having too much data at once\n",
    "    \n",
    "## Advantages of Business Intelligence\n",
    "- you avoid guessing - you are making an objective choice based on the best available information that's out there.\n",
    "- improves business forecasting\n",
    "- helps ensure business continuity (what is the highest pays person or decision maker wanders off to work for another company)\n",
    "- reduces subjectivity (gives confidence to our investors and lenders -- if we are able to explain the process)\n",
    "\n",
    "## Disadvantages of BI: \n",
    "- complexity (don't lose forest for the trees)\n",
    "- requires an upfront investment - BI is a process, not a purchase\n",
    "- analysis paralysis - paralyzed with fear because we have so many different and competing strings of information coming at us.\n",
    "- risk of black boxes (relying too much on software to make choices -- not really understanding what's going on and how the decisions are being made)\n"
   ]
  },
  {
   "cell_type": "markdown",
   "metadata": {},
   "source": [
    "# REGRESSION ANALYSIS\n",
    "\n",
    "- model/tool for predictions and forecasts \n",
    "- y=ax+b\n",
    "- **simple regression** fits a straight line to the data. \n",
    "- in the real world, there are many factors that could impact our decision \n",
    "- you can incorporate all of the many factors into a single model called a **multiple regression**\n",
    "\n",
    "\n",
    "# STEPS TO PREDICTION: \n",
    "- run regression \n",
    "- save coefficients from output (for each of the different factors) for example, this will help us to measure the impact of each additional dollar spent on training.\n",
    "- use the coefficients and expected values for the future to get a prediction\n",
    "\n",
    "# Regressions help us to minimize prediction errors\n",
    "\n",
    "\n"
   ]
  }
 ],
 "metadata": {
  "kernelspec": {
   "display_name": "Python 3",
   "language": "python",
   "name": "python3"
  },
  "language_info": {
   "codemirror_mode": {
    "name": "ipython",
    "version": 3
   },
   "file_extension": ".py",
   "mimetype": "text/x-python",
   "name": "python",
   "nbconvert_exporter": "python",
   "pygments_lexer": "ipython3",
   "version": "3.8.5"
  }
 },
 "nbformat": 4,
 "nbformat_minor": 4
}
