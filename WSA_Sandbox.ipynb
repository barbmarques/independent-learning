{
 "cells": [
  {
   "cell_type": "code",
   "execution_count": 16,
   "metadata": {},
   "outputs": [],
   "source": [
    "import pandas as pd \n",
    "\n",
    "# WSA\n",
    "\n",
    "\n",
    "\n",
    "# read in and prepare the healthcare data:\n",
    "hc_df = pd.read_csv('NonFarm-Table1.csv')\n"
   ]
  },
  {
   "cell_type": "code",
   "execution_count": 17,
   "metadata": {},
   "outputs": [
    {
     "data": {
      "text/html": [
       "<div>\n",
       "<style scoped>\n",
       "    .dataframe tbody tr th:only-of-type {\n",
       "        vertical-align: middle;\n",
       "    }\n",
       "\n",
       "    .dataframe tbody tr th {\n",
       "        vertical-align: top;\n",
       "    }\n",
       "\n",
       "    .dataframe thead th {\n",
       "        text-align: right;\n",
       "    }\n",
       "</style>\n",
       "<table border=\"1\" class=\"dataframe\">\n",
       "  <thead>\n",
       "    <tr style=\"text-align: right;\">\n",
       "      <th></th>\n",
       "      <th>Date_Stamp</th>\n",
       "      <th>TX_Employment_Count</th>\n",
       "      <th>TX_Employment_Percentage</th>\n",
       "      <th>US_Employment_Count</th>\n",
       "      <th>US_Employment_Percentage</th>\n",
       "    </tr>\n",
       "  </thead>\n",
       "  <tbody>\n",
       "    <tr>\n",
       "      <th>0</th>\n",
       "      <td>Apr-11</td>\n",
       "      <td>1245000</td>\n",
       "      <td>11.75</td>\n",
       "      <td>17010700</td>\n",
       "      <td>12.92</td>\n",
       "    </tr>\n",
       "    <tr>\n",
       "      <th>1</th>\n",
       "      <td>May-11</td>\n",
       "      <td>1249300</td>\n",
       "      <td>11.76</td>\n",
       "      <td>17044400</td>\n",
       "      <td>12.88</td>\n",
       "    </tr>\n",
       "    <tr>\n",
       "      <th>2</th>\n",
       "      <td>Jun-11</td>\n",
       "      <td>1251700</td>\n",
       "      <td>11.74</td>\n",
       "      <td>17062600</td>\n",
       "      <td>12.84</td>\n",
       "    </tr>\n",
       "    <tr>\n",
       "      <th>3</th>\n",
       "      <td>Jul-11</td>\n",
       "      <td>1254700</td>\n",
       "      <td>11.86</td>\n",
       "      <td>17046600</td>\n",
       "      <td>12.95</td>\n",
       "    </tr>\n",
       "    <tr>\n",
       "      <th>4</th>\n",
       "      <td>Aug-11</td>\n",
       "      <td>1261500</td>\n",
       "      <td>11.88</td>\n",
       "      <td>17085500</td>\n",
       "      <td>12.96</td>\n",
       "    </tr>\n",
       "    <tr>\n",
       "      <th>...</th>\n",
       "      <td>...</td>\n",
       "      <td>...</td>\n",
       "      <td>...</td>\n",
       "      <td>...</td>\n",
       "      <td>...</td>\n",
       "    </tr>\n",
       "    <tr>\n",
       "      <th>116</th>\n",
       "      <td>Dec-20</td>\n",
       "      <td>1499400</td>\n",
       "      <td>12.04</td>\n",
       "      <td>19996100</td>\n",
       "      <td>13.92</td>\n",
       "    </tr>\n",
       "    <tr>\n",
       "      <th>117</th>\n",
       "      <td>Jan-21</td>\n",
       "      <td>1490600</td>\n",
       "      <td>12.12</td>\n",
       "      <td>19783300</td>\n",
       "      <td>14.03</td>\n",
       "    </tr>\n",
       "    <tr>\n",
       "      <th>118</th>\n",
       "      <td>Feb-21</td>\n",
       "      <td>1492800</td>\n",
       "      <td>12.09</td>\n",
       "      <td>19848700</td>\n",
       "      <td>13.96</td>\n",
       "    </tr>\n",
       "    <tr>\n",
       "      <th>119</th>\n",
       "      <td>Mar-21</td>\n",
       "      <td>1496600</td>\n",
       "      <td>11.99</td>\n",
       "      <td>19920300</td>\n",
       "      <td>13.90</td>\n",
       "    </tr>\n",
       "    <tr>\n",
       "      <th>120</th>\n",
       "      <td>Apr-21</td>\n",
       "      <td>1496200</td>\n",
       "      <td>11.94</td>\n",
       "      <td>19963400</td>\n",
       "      <td>13.83</td>\n",
       "    </tr>\n",
       "  </tbody>\n",
       "</table>\n",
       "<p>121 rows × 5 columns</p>\n",
       "</div>"
      ],
      "text/plain": [
       "    Date_Stamp  TX_Employment_Count  TX_Employment_Percentage  \\\n",
       "0       Apr-11              1245000                     11.75   \n",
       "1       May-11              1249300                     11.76   \n",
       "2       Jun-11              1251700                     11.74   \n",
       "3       Jul-11              1254700                     11.86   \n",
       "4       Aug-11              1261500                     11.88   \n",
       "..         ...                  ...                       ...   \n",
       "116     Dec-20              1499400                     12.04   \n",
       "117     Jan-21              1490600                     12.12   \n",
       "118     Feb-21              1492800                     12.09   \n",
       "119     Mar-21              1496600                     11.99   \n",
       "120     Apr-21              1496200                     11.94   \n",
       "\n",
       "     US_Employment_Count  US_Employment_Percentage  \n",
       "0               17010700                     12.92  \n",
       "1               17044400                     12.88  \n",
       "2               17062600                     12.84  \n",
       "3               17046600                     12.95  \n",
       "4               17085500                     12.96  \n",
       "..                   ...                       ...  \n",
       "116             19996100                     13.92  \n",
       "117             19783300                     14.03  \n",
       "118             19848700                     13.96  \n",
       "119             19920300                     13.90  \n",
       "120             19963400                     13.83  \n",
       "\n",
       "[121 rows x 5 columns]"
      ]
     },
     "execution_count": 17,
     "metadata": {},
     "output_type": "execute_result"
    }
   ],
   "source": [
    "hc_df"
   ]
  },
  {
   "cell_type": "code",
   "execution_count": 21,
   "metadata": {},
   "outputs": [
    {
     "data": {
      "text/plain": [
       "(121, 5)"
      ]
     },
     "execution_count": 21,
     "metadata": {},
     "output_type": "execute_result"
    }
   ],
   "source": [
    "hc_df.shape"
   ]
  },
  {
   "cell_type": "code",
   "execution_count": 18,
   "metadata": {},
   "outputs": [
    {
     "name": "stdout",
     "output_type": "stream",
     "text": [
      "<class 'pandas.core.frame.DataFrame'>\n",
      "RangeIndex: 121 entries, 0 to 120\n",
      "Data columns (total 5 columns):\n",
      " #   Column                    Non-Null Count  Dtype  \n",
      "---  ------                    --------------  -----  \n",
      " 0   Date_Stamp                121 non-null    object \n",
      " 1   TX_Employment_Count       121 non-null    int64  \n",
      " 2   TX_Employment_Percentage  121 non-null    float64\n",
      " 3   US_Employment_Count       121 non-null    int64  \n",
      " 4   US_Employment_Percentage  121 non-null    float64\n",
      "dtypes: float64(2), int64(2), object(1)\n",
      "memory usage: 4.9+ KB\n"
     ]
    }
   ],
   "source": [
    "hc_df.info()\n"
   ]
  },
  {
   "cell_type": "code",
   "execution_count": 20,
   "metadata": {},
   "outputs": [
    {
     "data": {
      "text/plain": [
       "Nov-17    1\n",
       "Aug-13    1\n",
       "May-13    1\n",
       "Jan-14    1\n",
       "Jan-20    1\n",
       "         ..\n",
       "Oct-20    1\n",
       "Dec-16    1\n",
       "Jan-15    1\n",
       "Apr-18    1\n",
       "Oct-11    1\n",
       "Name: Date_Stamp, Length: 121, dtype: int64"
      ]
     },
     "execution_count": 20,
     "metadata": {},
     "output_type": "execute_result"
    }
   ],
   "source": [
    "hc_df.Date_Stamp.value_counts()"
   ]
  },
  {
   "cell_type": "code",
   "execution_count": 22,
   "metadata": {},
   "outputs": [
    {
     "data": {
      "text/plain": [
       "1400200    2\n",
       "1338700    2\n",
       "1475700    2\n",
       "1496600    2\n",
       "1329600    1\n",
       "          ..\n",
       "1319600    1\n",
       "1421100    1\n",
       "1534900    1\n",
       "1399800    1\n",
       "1459200    1\n",
       "Name: TX_Employment_Count, Length: 117, dtype: int64"
      ]
     },
     "execution_count": 22,
     "metadata": {},
     "output_type": "execute_result"
    }
   ],
   "source": [
    "hc_df.TX_Employment_Count.value_counts()"
   ]
  },
  {
   "cell_type": "code",
   "execution_count": null,
   "metadata": {},
   "outputs": [],
   "source": []
  }
 ],
 "metadata": {
  "kernelspec": {
   "display_name": "Python 3",
   "language": "python",
   "name": "python3"
  },
  "language_info": {
   "codemirror_mode": {
    "name": "ipython",
    "version": 3
   },
   "file_extension": ".py",
   "mimetype": "text/x-python",
   "name": "python",
   "nbconvert_exporter": "python",
   "pygments_lexer": "ipython3",
   "version": "3.8.5"
  }
 },
 "nbformat": 4,
 "nbformat_minor": 4
}
