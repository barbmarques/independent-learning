{
 "cells": [
  {
   "cell_type": "markdown",
   "metadata": {},
   "source": [
    "### Intro to WebScraping / Parsing Practice\n",
    "\n",
    "#### Notes from video by Ryan Orsinger"
   ]
  },
  {
   "cell_type": "code",
   "execution_count": 1,
   "metadata": {},
   "outputs": [],
   "source": [
    "# imports\n",
    "from requests import get\n",
    "import pandas as pd\n",
    "from bs4 import BeautifulSoup"
   ]
  },
  {
   "cell_type": "code",
   "execution_count": 2,
   "metadata": {},
   "outputs": [],
   "source": [
    "# URLs\n",
    "text_url = 'https://machinelearning.fit/example.txt'\n",
    "json_url = 'https://machinelearning.fit/example.json'\n",
    "csv_url = 'https://machinelearning.fit/example.csv'\n",
    "html_url = 'https://machinelearning.fit/example.html'"
   ]
  },
  {
   "cell_type": "markdown",
   "metadata": {},
   "source": [
    "#### Text "
   ]
  },
  {
   "cell_type": "code",
   "execution_count": 7,
   "metadata": {},
   "outputs": [
    {
     "data": {
      "text/plain": [
       "\"This is example text.\\n\\nThe text comes to us from request.get as a string. And it's a single string. \\n\\nThe way that we parse this single string of unstructured text is by splitting the string into component parts based on characters. \""
      ]
     },
     "execution_count": 7,
     "metadata": {},
     "output_type": "execute_result"
    }
   ],
   "source": [
    "#create response variable for text_url\n",
    "response = get(text_url)\n",
    "\n",
    "# get the raw response text as one single string\n",
    "response.text\n"
   ]
  },
  {
   "cell_type": "code",
   "execution_count": 8,
   "metadata": {},
   "outputs": [
    {
     "data": {
      "text/plain": [
       "\"This is example text.  The text comes to us from request.get as a string. And it's a single string.   The way that we parse this single string of unstructured text is by splitting the string into component parts based on characters. \""
      ]
     },
     "execution_count": 8,
     "metadata": {},
     "output_type": "execute_result"
    }
   ],
   "source": [
    "# parse by replacing the new line character with a space\n",
    "response.text.replace('\\n',' ')"
   ]
  },
  {
   "cell_type": "code",
   "execution_count": 10,
   "metadata": {},
   "outputs": [
    {
     "data": {
      "text/plain": [
       "'{\\n    \"title\": \"This is an example of JSON\",\\n    \"body\": \"Read in JSON and treat it like a dictionary in Python. No parsing necessary!\"\\n}'"
      ]
     },
     "execution_count": 10,
     "metadata": {},
     "output_type": "execute_result"
    }
   ],
   "source": [
    "#create response variable for json_url\n",
    "response = get(json_url)\n",
    "\n",
    "# get the raw response as one single string\n",
    "response.text\n",
    "\n"
   ]
  },
  {
   "cell_type": "markdown",
   "metadata": {},
   "source": [
    "#### json "
   ]
  },
  {
   "cell_type": "code",
   "execution_count": 12,
   "metadata": {},
   "outputs": [
    {
     "data": {
      "text/plain": [
       "{'title': 'This is an example of JSON',\n",
       " 'body': 'Read in JSON and treat it like a dictionary in Python. No parsing necessary!'}"
      ]
     },
     "execution_count": 12,
     "metadata": {},
     "output_type": "execute_result"
    }
   ],
   "source": [
    "# parse using jason function to return a dictionary with title and body\n",
    "response.json()"
   ]
  },
  {
   "cell_type": "code",
   "execution_count": 15,
   "metadata": {},
   "outputs": [
    {
     "data": {
      "text/plain": [
       "'Read in JSON and treat it like a dictionary in Python. No parsing necessary!'"
      ]
     },
     "execution_count": 15,
     "metadata": {},
     "output_type": "execute_result"
    }
   ],
   "source": [
    "# request the body to get text in one single string\n",
    "response.json()['body']"
   ]
  },
  {
   "cell_type": "markdown",
   "metadata": {},
   "source": [
    "#### csv"
   ]
  },
  {
   "cell_type": "code",
   "execution_count": 16,
   "metadata": {},
   "outputs": [
    {
     "data": {
      "text/plain": [
       "\"title, body\\nthis is an example csv, we can manually parse CSV files by splitting strings on new line characters and commas\\nhow to automatically parse a csv, use pandas's .read_csv and you're good to go\""
      ]
     },
     "execution_count": 16,
     "metadata": {},
     "output_type": "execute_result"
    }
   ],
   "source": [
    "#create response variable for csv_url\n",
    "response = get(csv_url)\n",
    "\n",
    "# get the raw response as one single string\n",
    "response.text"
   ]
  },
  {
   "cell_type": "code",
   "execution_count": 17,
   "metadata": {},
   "outputs": [
    {
     "data": {
      "text/html": [
       "<div>\n",
       "<style scoped>\n",
       "    .dataframe tbody tr th:only-of-type {\n",
       "        vertical-align: middle;\n",
       "    }\n",
       "\n",
       "    .dataframe tbody tr th {\n",
       "        vertical-align: top;\n",
       "    }\n",
       "\n",
       "    .dataframe thead th {\n",
       "        text-align: right;\n",
       "    }\n",
       "</style>\n",
       "<table border=\"1\" class=\"dataframe\">\n",
       "  <thead>\n",
       "    <tr style=\"text-align: right;\">\n",
       "      <th></th>\n",
       "      <th>title</th>\n",
       "      <th>body</th>\n",
       "    </tr>\n",
       "  </thead>\n",
       "  <tbody>\n",
       "    <tr>\n",
       "      <th>0</th>\n",
       "      <td>this is an example csv</td>\n",
       "      <td>we can manually parse CSV files by splitting ...</td>\n",
       "    </tr>\n",
       "    <tr>\n",
       "      <th>1</th>\n",
       "      <td>how to automatically parse a csv</td>\n",
       "      <td>use pandas's .read_csv and you're good to go</td>\n",
       "    </tr>\n",
       "  </tbody>\n",
       "</table>\n",
       "</div>"
      ],
      "text/plain": [
       "                              title  \\\n",
       "0            this is an example csv   \n",
       "1  how to automatically parse a csv   \n",
       "\n",
       "                                                body  \n",
       "0   we can manually parse CSV files by splitting ...  \n",
       "1       use pandas's .read_csv and you're good to go  "
      ]
     },
     "execution_count": 17,
     "metadata": {},
     "output_type": "execute_result"
    }
   ],
   "source": [
    "# Pandas parses csv\n",
    "pd.read_csv(csv_url)"
   ]
  },
  {
   "cell_type": "markdown",
   "metadata": {},
   "source": [
    "### Webscraping - BeautifulSoup"
   ]
  },
  {
   "cell_type": "code",
   "execution_count": 18,
   "metadata": {},
   "outputs": [
    {
     "data": {
      "text/plain": [
       "'<!DOCTYPE html>\\n<html>\\n<head>\\n    <meta charset=\"utf-8\" />\\n    <meta http-equiv=\"X-UA-Compatible\" content=\"IE=edge\" />\\n    <meta name=\"viewport\" content=\"width=device-width, initial-scale=1\" />\\n\\n    <title>This is an Example Web Page</title>\\n    <style type=\"text/css\">\\n        * {\\n            box-sizing: border-box;\\n        }\\n\\n        body {\\n            margin: 0 auto;\\n            max-width: 50em;\\n            font-family: sans-serif;\\n        }\\n\\n        header {\\n            font-family: serif;\\n            background-color: black;\\n            color: white;\\n            margin: 2em;\\n            padding: 1em;\\n            text-align: center;\\n        }\\n\\n        main {\\n            padding: 3em;\\n            border: 1px solid black;\\n        }\\n\\n    </style>\\n</head>\\n<body>\\n\\n<header>\\n    <h1>This is an example webpage</h1>\\n</header>\\n<main>\\n    <section>\\n        <h2>HTML</h2>\\n        <p>HTML is a language for structure and content for the web.</p>\\n        <p>We need to parse HTML because we want the content, not the HTML tags.</p>\\n        <h3>Some HTML structure/content</h3>\\n        <ul>\\n            <li>Text</li>   \\n            <li>Bullet points</li>   \\n            <li>Images</li>   \\n            <li>Video/Audio</li>   \\n        </ul>\\n    </section>\\n    <section>\\n        <h2>Manually Parsing HTML</h2>\\n        <p>Short answer: Don\\'t do it.</p>\\n        <p>Avoid parsing HTML with regex. See <a href=\"https://stackoverflow.com/questions/1732348/regex-match-open-tags-except-xhtml-self-contained-tags/\" target=\"_blank\">this StackOverflow</a> if you are curious.</p>\\n    </section>\\n    <section>\\n        <h2>Best Way to parse HTML</h2>\\n        <p>Use a library, like Beautiful Soup, that is built for HTML.</p>\\n    </section>\\n    \\n    <p>\\n    \\n    </p>\\n</main>\\n\\n</body>\\n</html>'"
      ]
     },
     "execution_count": 18,
     "metadata": {},
     "output_type": "execute_result"
    }
   ],
   "source": [
    "# create a response variable for html\n",
    "response = get(html_url)\n",
    "\n",
    "# get the raw response as one single string\n",
    "response.text"
   ]
  },
  {
   "cell_type": "code",
   "execution_count": 19,
   "metadata": {},
   "outputs": [
    {
     "data": {
      "text/plain": [
       "<!DOCTYPE html>\n",
       "<html>\n",
       "<head>\n",
       "<meta charset=\"utf-8\"/>\n",
       "<meta content=\"IE=edge\" http-equiv=\"X-UA-Compatible\"/>\n",
       "<meta content=\"width=device-width, initial-scale=1\" name=\"viewport\"/>\n",
       "<title>This is an Example Web Page</title>\n",
       "<style type=\"text/css\">\n",
       "        * {\n",
       "            box-sizing: border-box;\n",
       "        }\n",
       "\n",
       "        body {\n",
       "            margin: 0 auto;\n",
       "            max-width: 50em;\n",
       "            font-family: sans-serif;\n",
       "        }\n",
       "\n",
       "        header {\n",
       "            font-family: serif;\n",
       "            background-color: black;\n",
       "            color: white;\n",
       "            margin: 2em;\n",
       "            padding: 1em;\n",
       "            text-align: center;\n",
       "        }\n",
       "\n",
       "        main {\n",
       "            padding: 3em;\n",
       "            border: 1px solid black;\n",
       "        }\n",
       "\n",
       "    </style>\n",
       "</head>\n",
       "<body>\n",
       "<header>\n",
       "<h1>This is an example webpage</h1>\n",
       "</header>\n",
       "<main>\n",
       "<section>\n",
       "<h2>HTML</h2>\n",
       "<p>HTML is a language for structure and content for the web.</p>\n",
       "<p>We need to parse HTML because we want the content, not the HTML tags.</p>\n",
       "<h3>Some HTML structure/content</h3>\n",
       "<ul>\n",
       "<li>Text</li>\n",
       "<li>Bullet points</li>\n",
       "<li>Images</li>\n",
       "<li>Video/Audio</li>\n",
       "</ul>\n",
       "</section>\n",
       "<section>\n",
       "<h2>Manually Parsing HTML</h2>\n",
       "<p>Short answer: Don't do it.</p>\n",
       "<p>Avoid parsing HTML with regex. See <a href=\"https://stackoverflow.com/questions/1732348/regex-match-open-tags-except-xhtml-self-contained-tags/\" target=\"_blank\">this StackOverflow</a> if you are curious.</p>\n",
       "</section>\n",
       "<section>\n",
       "<h2>Best Way to parse HTML</h2>\n",
       "<p>Use a library, like Beautiful Soup, that is built for HTML.</p>\n",
       "</section>\n",
       "<p>\n",
       "</p>\n",
       "</main>\n",
       "</body>\n",
       "</html>"
      ]
     },
     "execution_count": 19,
     "metadata": {},
     "output_type": "execute_result"
    }
   ],
   "source": [
    "# create a beautiful soup object from the response\n",
    "soup = BeautifulSoup(response.text)\n",
    "\n",
    "# look at html formatted text\n",
    "soup"
   ]
  },
  {
   "cell_type": "code",
   "execution_count": 20,
   "metadata": {
    "tags": []
   },
   "outputs": [
    {
     "data": {
      "text/plain": [
       "\"\\n\\n\\n\\n\\nThis is an Example Web Page\\n\\n\\n\\n\\nThis is an example webpage\\n\\n\\n\\nHTML\\nHTML is a language for structure and content for the web.\\nWe need to parse HTML because we want the content, not the HTML tags.\\nSome HTML structure/content\\n\\nText\\nBullet points\\nImages\\nVideo/Audio\\n\\n\\n\\nManually Parsing HTML\\nShort answer: Don't do it.\\nAvoid parsing HTML with regex. See this StackOverflow if you are curious.\\n\\n\\nBest Way to parse HTML\\nUse a library, like Beautiful Soup, that is built for HTML.\\n\\n\\n\\n\\n\\n\""
      ]
     },
     "execution_count": 20,
     "metadata": {},
     "output_type": "execute_result"
    }
   ],
   "source": [
    "# look at just the text, without the html formatting\n",
    "soup.text"
   ]
  },
  {
   "cell_type": "markdown",
   "metadata": {},
   "source": [
    "### find link"
   ]
  },
  {
   "cell_type": "code",
   "execution_count": 21,
   "metadata": {},
   "outputs": [
    {
     "data": {
      "text/plain": [
       "<a href=\"https://stackoverflow.com/questions/1732348/regex-match-open-tags-except-xhtml-self-contained-tags/\" target=\"_blank\">this StackOverflow</a>"
      ]
     },
     "execution_count": 21,
     "metadata": {},
     "output_type": "execute_result"
    }
   ],
   "source": [
    "# ask soup to find an anchor tag (link) in the code\n",
    "soup.find('a')"
   ]
  },
  {
   "cell_type": "code",
   "execution_count": 23,
   "metadata": {},
   "outputs": [
    {
     "data": {
      "text/plain": [
       "'https://stackoverflow.com/questions/1732348/regex-match-open-tags-except-xhtml-self-contained-tags/'"
      ]
     },
     "execution_count": 23,
     "metadata": {},
     "output_type": "execute_result"
    }
   ],
   "source": [
    "# treat it like a dictionary and get 'href' to pull just url\n",
    "soup.find('a')['href']"
   ]
  },
  {
   "cell_type": "markdown",
   "metadata": {},
   "source": [
    "### find heading"
   ]
  },
  {
   "cell_type": "code",
   "execution_count": 24,
   "metadata": {},
   "outputs": [
    {
     "data": {
      "text/plain": [
       "<h1>This is an example webpage</h1>"
      ]
     },
     "execution_count": 24,
     "metadata": {},
     "output_type": "execute_result"
    }
   ],
   "source": [
    "# ask soup to find a heading in the code\n",
    "soup.find('h1')"
   ]
  },
  {
   "cell_type": "code",
   "execution_count": 25,
   "metadata": {},
   "outputs": [
    {
     "data": {
      "text/plain": [
       "'This is an example webpage'"
      ]
     },
     "execution_count": 25,
     "metadata": {},
     "output_type": "execute_result"
    }
   ],
   "source": [
    "# or just the text of the heading\n",
    "soup.find('h1').text\n"
   ]
  },
  {
   "cell_type": "markdown",
   "metadata": {},
   "source": [
    "### find all headings"
   ]
  },
  {
   "cell_type": "code",
   "execution_count": 28,
   "metadata": {},
   "outputs": [
    {
     "data": {
      "text/plain": [
       "[<h2>HTML</h2>,\n",
       " <h2>Manually Parsing HTML</h2>,\n",
       " <h2>Best Way to parse HTML</h2>]"
      ]
     },
     "execution_count": 28,
     "metadata": {},
     "output_type": "execute_result"
    }
   ],
   "source": [
    "# find all subheads\n",
    "soup.find_all('h2')"
   ]
  },
  {
   "cell_type": "code",
   "execution_count": 30,
   "metadata": {},
   "outputs": [
    {
     "data": {
      "text/plain": [
       "'Best Way to parse HTML'"
      ]
     },
     "execution_count": 30,
     "metadata": {},
     "output_type": "execute_result"
    }
   ],
   "source": [
    "# or just the last\n",
    "soup.find_all('h2')[-1].text"
   ]
  },
  {
   "cell_type": "code",
   "execution_count": null,
   "metadata": {},
   "outputs": [],
   "source": []
  }
 ],
 "metadata": {
  "kernelspec": {
   "display_name": "Python 3",
   "language": "python",
   "name": "python3"
  },
  "language_info": {
   "codemirror_mode": {
    "name": "ipython",
    "version": 3
   },
   "file_extension": ".py",
   "mimetype": "text/x-python",
   "name": "python",
   "nbconvert_exporter": "python",
   "pygments_lexer": "ipython3",
   "version": "3.8.5"
  }
 },
 "nbformat": 4,
 "nbformat_minor": 4
}
