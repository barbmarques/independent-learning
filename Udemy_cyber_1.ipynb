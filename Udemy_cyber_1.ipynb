{
 "cells": [
  {
   "cell_type": "markdown",
   "metadata": {},
   "source": [
    "## Notes from Udemy Course: \n",
    "\n",
    "## <font color = 'darkblue'>Cyber Security Training for Absolute Beginners\n",
    "\n"
   ]
  },
  {
   "cell_type": "markdown",
   "metadata": {},
   "source": [
    "### <font color = 'maroon'>CIA Triad: \n",
    "- **Confidentiality**\n",
    "    - only authorized persons can access the information\n",
    "    - encryption \n",
    "    - authentication & authorization (AA)\n",
    "- **Integrity**\n",
    "    - protect from unauthorized alteration\n",
    "    - protect from unintentional alteration by authorized user\n",
    "    - preserve internal and external consistency\n",
    "- **Availablility**\n",
    "    - authorized users have uninterrupted access to the data\n",
    "    - non-malicious threats: hardware failures, software downtime, bandwidth issues\n",
    "    - malicious interruption of service"
   ]
  },
  {
   "cell_type": "markdown",
   "metadata": {},
   "source": [
    "### <font color = 'maroon'>Authentication & Authorization: \n",
    "- **Authentication** - verifying a user's identity at the time of first interaction with the system\n",
    "    - indentification -> then authentication\n",
    "    - pins, passwords, info on the last transaction, security questions\n",
    "- **Authorization** - request to access various objects in the system\n",
    "    - **non-repudiation** - assurance that someone cannot deny that they performed an action or caused an event \n",
    "        - (similar to a visitor log in a building)\n",
    "        - ex: if email is digitally signed, the sender cannot later deny that he sent it\n",
    "    \n",
    "\n"
   ]
  },
  {
   "cell_type": "markdown",
   "metadata": {},
   "source": [
    "### <font color = 'maroon'> Information Security - protecting information in ALL its forms\n",
    "- **Cybersecurity**\n",
    "    - refers to the safety of information stored on electronic devices and/or connected to the internet or intranet \n",
    "    - network, website, application, cloud, etc.\n",
    "- **Information Protection**\n",
    "    - refers to the physical assets (facility, physical files, documents, etc)\n"
   ]
  },
  {
   "cell_type": "markdown",
   "metadata": {},
   "source": [
    "### <font color = 'maroon'> Ethical Hacking\n",
    "- process to ensure security of network, website, application, cloud\n",
    "- **red-teaming**/offensive-teaming - checks for vulnerabilities and loopholes in security\n",
    "- **blue-team/defenders** - monitor the incimdent and response accordingly\n",
    "\n",
    "\n",
    "\n"
   ]
  },
  {
   "cell_type": "markdown",
   "metadata": {},
   "source": [
    "### <font color = 'maroon'> Six Domains of Cybersecurity\n",
    "- **Industrial Control Systems (ICS)**\n",
    "    - safeguards industrial control systems, integrated hardware and software designed to monitor and control the  operation of machinery and associated devices in industrial environments\n",
    "- **Critical Infrastructure Security**\n",
    "    - vital infrastructures that government/nation relies on \n",
    "    - hospitals, traffic control, transportation, electricity, nuclear plants, \n",
    "- **Application Security**\n",
    "    - usually handled during app development\n",
    "- **Network Security**\n",
    "    - firewalls, IDPs, IPS, monitoring\n",
    "- **Cloud Security**\n",
    "    - policies, techniques to secure cloud against data breech, malware, hacking and other threats\n",
    "- **Internet of Things (IoT) Security**\n",
    "    - devices and the network they are connected to\n",
    "    - printers, sensors, security cams, smart tvs, smart devices, etc."
   ]
  },
  {
   "cell_type": "markdown",
   "metadata": {},
   "source": [
    "- **penetration testing**\n",
    "    - processes and techniques to discover known vulnerabilities in the system\n",
    "- **incidence response and forensics**\n",
    "- **DevOps**\n",
    "- **SecOps**\n",
    "- **Endpoint detection and response (EDR)**\n"
   ]
  },
  {
   "cell_type": "markdown",
   "metadata": {},
   "source": [
    "### <font color = 'maroon'> Skills Required in Cybersecurity\n",
    "- risk management\n",
    "    - risk identification\n",
    "    - cyber risk response\n",
    "    - identify, manage and present the risks in layman terms to execs\n",
    "- programming, scripting languages, platformas and tools\n",
    "- threat hunting\n",
    "- written and oral communication - connect with like-minded people on social platforms\n",
    "- converse with non-tech people with confidence\n",
    "- ambition to learn - curiousity to learn new skills keeps us relevant in this constantly-changing fields\n",
    "- new certifications, courses, and conferences\n",
    "- security architecture in systems (need skills to build secure systems)\n",
    "- automation / machine learning scripting\n",
    "- find balance between usability and security\n",
    "- know the business of your organization"
   ]
  },
  {
   "cell_type": "markdown",
   "metadata": {},
   "source": [
    "### <font color = 'maroon'> NICE Framework Workforce Categories\n",
    "-  National Initiative for Cybersecurity Education (NICE) defines seven categories of cybersecurity workforce\n",
    "- more info: https://www.nist.gov/system/files/documents/2019/11/08/nist.sp_.800-181.pdf  (see page 12)\n",
    "        \n",
    "- **Securely Provision:**\n",
    "    - Conceptualizes, designs, procures, and/or builds secure information technology (IT) systems, with responsibility for aspects of system and/or network development.\n",
    "    - specialty areas: risk management, software development, systems architecture, technology r&d, systems requirements planning, test and evaluation, systems development\n",
    "- **Operate and Maintain**\n",
    "    - Provides the support, administration, and maintenance necessary to ensure effective and efficient information technology (IT) system performance and security.\n",
    "    - specialty areas: data administration, knowledge management, customer service and technical support, network services, systems administration, systems analysis\n",
    "- **Oversee and Govern**\n",
    "    - Provides leadership, management, direction, or development and advocacy so the organization may effectively conduct cybersecurity work.\n",
    "    - specialty areas:legal advice and advocacy; training, education and awareness; cybersecurity management; strategic planning and policy; executive cyber leadership; program/project maangement and acquisition\n",
    "- **Protect and Defend**\n",
    "    - Identifies, analyzes, and mitigates threats to internal information technology (IT) systems and/or networks.\n",
    "    - specialty areas: cyber defense analysis, cyber defense infrastructure support, incident response, vulnerability assessment and management\n",
    "- **Analyze**\n",
    "    - Performs highly-specialized review and evaluation of incoming cybersecurity information to determine its usefulness for intelligence.\n",
    "    - speciality areas: threat analysis, exploitation analysis, all-source analysis, targets, language analysis\n",
    "- **Collect and Operate**\n",
    "    - Provides specialized denial and deception operations and collection of cybersecurity information that may be used to develop intelligence.\n",
    "    - speciality areas: collection operations, cyber operational planning, cyber operations\n",
    "- **Investigate**\n",
    "    - Investigates cybersecurity events or crimes related to information technology (IT) systems, networks, and digital evidence.\n",
    "    -  cyber investigations, digital forensics"
   ]
  },
  {
   "cell_type": "markdown",
   "metadata": {},
   "source": [
    "### <font color = 'maroon'> cyberseek.org\n",
    "- job heat map\n",
    "- national open positions by category and state\n",
    "- which certifications are currently in demand by geographic area\n",
    "- salaries by career path\n",
    "- skills and certifications needed by career path"
   ]
  },
  {
   "cell_type": "markdown",
   "metadata": {},
   "source": [
    "### <font color = 'maroon'> Mentorship and Networking\n",
    "- Twitter - join #CyberMentoringMonday\n",
    "- LinkedIn\n",
    "- Showcase you skills on social media\n",
    "- aim for 1,000 relevant connections in the next month"
   ]
  },
  {
   "cell_type": "code",
   "execution_count": null,
   "metadata": {},
   "outputs": [],
   "source": []
  }
 ],
 "metadata": {
  "kernelspec": {
   "display_name": "Python 3",
   "language": "python",
   "name": "python3"
  },
  "language_info": {
   "codemirror_mode": {
    "name": "ipython",
    "version": 3
   },
   "file_extension": ".py",
   "mimetype": "text/x-python",
   "name": "python",
   "nbconvert_exporter": "python",
   "pygments_lexer": "ipython3",
   "version": "3.8.5"
  }
 },
 "nbformat": 4,
 "nbformat_minor": 4
}
