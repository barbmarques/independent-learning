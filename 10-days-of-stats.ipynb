{
 "cells": [
  {
   "cell_type": "markdown",
   "metadata": {},
   "source": [
    "# <font color = 'green'>HackerRank:  10 Days of Statistics Challenge"
   ]
  },
  {
   "cell_type": "markdown",
   "metadata": {},
   "source": [
    "# Day 0 - Introduction \n",
    "\n",
    "**Precision**: refers to the number of significant digits in a number\n",
    "-123.45 has a precision of 5\n",
    "-0.012345 also has a precision of 5\n",
    "\n",
    "**Significant Figures Rules**:\n",
    "-Non-zero digits are always significant\n",
    "-Zeros between non-zero digits are always significant\n",
    "-Leading zeros are never significant\n",
    "-Trailing zeros are only significant if the number contains a decimal point\n",
    "\n",
    "**Scale**: refers to the number of significant digits to the right of the decimal point.\n",
    "-123.45 has a scale of 2\n",
    "-this term is sometimes misrepresented as precision\n",
    "\n",
    "**Weighted Mean**: the sum of all values times a weight, divided by the sum of the weights\n",
    "- used when some values are instinsically more variable then others, highly variable observations are given a lower weight. For example, if we are taking the average from multiple sensors and one sensor is less accurate, we might downweight the data from that sensor\n",
    "- also used when the data collected does not equally represent the different groups that we are interested in measuring. to correct this, we give a higher weight to the values from the groups that are underrepresented. *(Source: Practical Statistics for Data Scientists, O'Reilly)*"
   ]
  },
  {
   "cell_type": "markdown",
   "metadata": {},
   "source": [
    "## Task 1:  Mean, Median and Mode\n",
    "Given an array, *X*, of *N* integers, calculate and print the respective mean, median, and mode on separate lines. If your array contains more than one modal value, choose the numerically smallest one.\n",
    "\n",
    "Note: Other than the modal value (which will always be an integer), your answers should be in decimal form, rounded to a scale of 1 decimal place (i.e.,  12.3, 7.0 format).\n",
    "\n",
    "**Input Format**: <br>\n",
    "The first line contains an integer, *N*, the number of elements in the array.<br>\n",
    "The second line contains *N* space-separated integers that describe the array's elements.<br>\n",
    "\n",
    "**Output Format**:<br>\n",
    "Print the mean on the first line to a scale of  decimal place (i.e., , ).<br>\n",
    "Print the median on a new line, to a scale of  decimal place (i.e., , ).<br>\n",
    "Print the mode on a new line. If more than one such value exists, print the numerically smallest one."
   ]
  },
  {
   "cell_type": "code",
   "execution_count": 2,
   "metadata": {},
   "outputs": [
    {
     "name": "stdin",
     "output_type": "stream",
     "text": [
      " 10\n",
      " 64630 11735 14216 99233 14470 4978 73429 38120 51135 67060\n"
     ]
    },
    {
     "name": "stdout",
     "output_type": "stream",
     "text": [
      "\n",
      "43900.6\n",
      "44627.5\n",
      "4978\n"
     ]
    }
   ],
   "source": [
    "\n",
    "# stdin: \n",
    "# 10\n",
    "# 64630 11735 14216 99233 14470 4978 73429 38120 51135 67060\n",
    "\n",
    "# imports necessary to calculate statistics\n",
    "import numpy as np\n",
    "from scipy import stats\n",
    "\n",
    "# grabs the first input from the user and creates a variable that is converted to an integer\n",
    "length = (int, input())\n",
    "\n",
    "# converts each element in the second input into an integer and creates a string, then splits that string into a list of parts\n",
    "# given no arguments, it splits on any whitespace. \n",
    "array = list(map(int, input().split()))\n",
    "\n",
    "# numpy calculates the mean and median\n",
    "print()\n",
    "print(np.mean(array))\n",
    "print(np.median(array))\n",
    "\n",
    "# scipy returns an array of the most common value, if there is more than one mode, only the smallest is returned\n",
    "# we are printing the first value in that array\n",
    "print(int(stats.mode(array)[0]))  "
   ]
  },
  {
   "cell_type": "markdown",
   "metadata": {},
   "source": [
    "## Task 2: Weighted Mean\n",
    "Given an array, *X* , of *N* integers and an array, *W*, representing the respective weights of *X*'s elements, calculate and print the weighted mean of *X*'s elements. Your answer should be rounded to a scale of 1 decimal place (i.e., 12.3 format).\n",
    "\n",
    "**Function Description**\n",
    "weightedMean function has the following parameters:\n",
    "- int X[N]: an array of values\n",
    "- int W[N]: an array of weights\n",
    "\n",
    "**Prints**\n",
    "- float: the weighted mean to one decimal place\n",
    "\n",
    "**stdin:**<br>\n",
    "5               \n",
    "10 40 30 50 20  \n",
    "1 2 3 4 5       \n",
    "\n",
    "\n"
   ]
  },
  {
   "cell_type": "code",
   "execution_count": 5,
   "metadata": {},
   "outputs": [
    {
     "name": "stdin",
     "output_type": "stream",
     "text": [
      " 5\n",
      " 10 40 30 50 20\n",
      " 1 2 3 4 5\n"
     ]
    },
    {
     "name": "stdout",
     "output_type": "stream",
     "text": [
      "32.0\n"
     ]
    }
   ],
   "source": [
    "import math\n",
    "\n",
    "size = int(input().strip())\n",
    "X = list(map(int, input().rstrip().split()))\n",
    "W = list(map(int, input().rstrip().split()))\n",
    "\n",
    "print(round(sum(list(map(lambda a1, a2: a1 * a2, X,W)))/sum(W),1))\n",
    "\n",
    "    \n"
   ]
  },
  {
   "cell_type": "code",
   "execution_count": null,
   "metadata": {},
   "outputs": [],
   "source": [
    "# Day 1 - Quartiles, \n",
    "\n",
    "**quartiles** - the three points that split the data into four equal groups (Q2 is the median)"
   ]
  }
 ],
 "metadata": {
  "kernelspec": {
   "display_name": "Python 3",
   "language": "python",
   "name": "python3"
  },
  "language_info": {
   "codemirror_mode": {
    "name": "ipython",
    "version": 3
   },
   "file_extension": ".py",
   "mimetype": "text/x-python",
   "name": "python",
   "nbconvert_exporter": "python",
   "pygments_lexer": "ipython3",
   "version": "3.8.5"
  }
 },
 "nbformat": 4,
 "nbformat_minor": 4
}
