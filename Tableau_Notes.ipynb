{
 "cells": [
  {
   "cell_type": "markdown",
   "metadata": {},
   "source": [
    "#### Notes taken from Udemy Course  (May - June 2021)\n",
    "\n",
    "## <font color='003366'>Tableau Certified Associate/Specialist Desktop Certification"
   ]
  },
  {
   "cell_type": "markdown",
   "metadata": {},
   "source": [
    "### <font color='maroon'>User Interface:\n",
    "- **Data Source page**\n",
    "    - returns to original data source\n",
    "- sheets tabs\n",
    "- status bar\n",
    "    - gives marks, rows/columns and size\n",
    "    - far right are the 'show tabs'\n",
    "    - show filmstrip gives  preview of all tabs\n",
    "- side bar\n",
    "- shelves\n",
    "    - filters, pages (works like filters, but you can scroll thru views), rows, columns\n",
    "    - filters allow us to view subsets\n",
    "    \n",
    "- cards\n",
    "    - marks\n",
    "- windows tab controls what bars you see  \n",
    "- pills\n",
    "- granularity - different levels of details within the pills in columns\n",
    "    "
   ]
  },
  {
   "cell_type": "markdown",
   "metadata": {},
   "source": [
    "### <font color='maroon'>Tips on tooltips\n",
    "- can use click here for more information to add a link in the tooltip\n",
    "- can add a .25 second delay before tooltip displays\n",
    "- captians accessed in the toolbar next to present\n",
    "- captians are auto-generated but can be edited\n",
    "- you can also access under windows - show captians\n",
    "- remember tooltips can be used to  include information that is not otherwise in the graph\n",
    "- **you can insert a viz in the tooltip, by inserting the sheet that the viz is on!!!**"
   ]
  },
  {
   "cell_type": "markdown",
   "metadata": {},
   "source": [
    "### <font color='maroon'> Binning Data\n",
    "- right click on measure\n",
    "- suggest a bin size\n",
    "- a new dimension (blue pill) is created for the binned data.\n",
    "- drag that measure to the appropriate column/row"
   ]
  },
  {
   "cell_type": "markdown",
   "metadata": {},
   "source": [
    "### <font color='maroon'> Histograms\n",
    "- histograms visualize the distribution of data easily\n",
    "- click on the measure and choose histograms in show me\n",
    "- automatically creates a bin dimension\n",
    "- good way of describing the range of the data"
   ]
  },
  {
   "cell_type": "markdown",
   "metadata": {},
   "source": [
    "### <font color='maroon'> Auto-Generated Fields \n",
    "- found under measures - only when you are using geographic fields\n",
    "- Number of records - counts records per country (when you select view data)\n",
    "- measure names ((double click to see the sum of each of the measures)\n",
    "- measure values and measure names are sometimes automatically added when we click on show me\n",
    "\n",
    "    \n"
   ]
  },
  {
   "cell_type": "markdown",
   "metadata": {},
   "source": [
    "### <font color='maroon'>Dual-Axis Charts \n",
    "- remember to synchonize the axes to same units\n",
    "- when marks are hidden, consider changing to a combination chart"
   ]
  },
  {
   "cell_type": "markdown",
   "metadata": {},
   "source": [
    "### <font color='maroon'>Motion Charts (animated)\n",
    "- motion charts display changes over time\n",
    "- put a dimension in the pages of your chart\n",
    "- in the margin, you will see a page card\n",
    "- show history and trails\n",
    "- runs through the pages in animation\n",
    "- many options on the pages card to change the appearance/timing of animation"
   ]
  },
  {
   "cell_type": "markdown",
   "metadata": {},
   "source": [
    "### <font color='maroon'>Bar-in-bar Chart\n",
    "- great to use instead of stacked bars of \n",
    "- size of the inner bars can be adjusted \n",
    "- good uses: target sales/actual sales, total sales/total revenue, total workforce/total employed\n",
    "\n"
   ]
  },
  {
   "cell_type": "markdown",
   "metadata": {},
   "source": [
    "### <font color='maroon'>Heat Map\n",
    "- create a cross-tab\n",
    "- put feature in color and as label\n",
    "- in marks - charge\n",
    "- mark type is square"
   ]
  },
  {
   "cell_type": "markdown",
   "metadata": {},
   "source": [
    "### <font color='maroon'> **Instant Analytics**\n",
    "- click on Anaytics\n",
    "\n",
    "**Summarize**\n",
    "- constant line (or reference line) at $35M, for example\n",
    "- average line (can have to average lines. state average and national average, for example)\n",
    "- median with quartiles\n",
    "- box plots\n",
    "- totals (column totals or grand totals), averages, min, median, max, \n",
    "\n",
    "**Model**\n",
    "- average with 95% confidence intervals shaded (Tableau works out the CI based on 2 SD from the average value)\n",
    "- median with 95% confidence intervals shaded\n",
    "- trend line\n",
    "- forecast\n",
    "- cluster - Tableau tries to divide the measures into however many clusters you specify\n",
    "\n",
    "**Custom**\n",
    "- reference line - can use reference to shade the entire area above or below the reference line different colors\n",
    "- reference band - drag into viz / then edit to customize band area and highlight color\n",
    "- distribution band - drag into viz / then edit the computation (percentages, percentiles, quantiles or standard deviation) -- can use multiple bands on one viz. (ex. 20th, 50th and 80th percentile) -- standard deviation bands are good for identifying outliers\n",
    "- box plot\n",
    "\n",
    "\n"
   ]
  },
  {
   "cell_type": "code",
   "execution_count": 8,
   "metadata": {},
   "outputs": [],
   "source": [
    "### <font color='maroon'>"
   ]
  },
  {
   "cell_type": "code",
   "execution_count": 9,
   "metadata": {},
   "outputs": [],
   "source": [
    "### <font color='maroon'>"
   ]
  },
  {
   "cell_type": "code",
   "execution_count": 10,
   "metadata": {},
   "outputs": [],
   "source": [
    "### <font color='maroon'>"
   ]
  },
  {
   "cell_type": "code",
   "execution_count": 11,
   "metadata": {},
   "outputs": [],
   "source": [
    "### <font color='maroon'>"
   ]
  },
  {
   "cell_type": "markdown",
   "metadata": {},
   "source": [
    "### <font color='maroon'>"
   ]
  },
  {
   "cell_type": "markdown",
   "metadata": {},
   "source": [
    "### <font color='maroon'>"
   ]
  },
  {
   "cell_type": "markdown",
   "metadata": {},
   "source": [
    "### <font color='maroon'>"
   ]
  }
 ],
 "metadata": {
  "kernelspec": {
   "display_name": "Python 3",
   "language": "python",
   "name": "python3"
  },
  "language_info": {
   "codemirror_mode": {
    "name": "ipython",
    "version": 3
   },
   "file_extension": ".py",
   "mimetype": "text/x-python",
   "name": "python",
   "nbconvert_exporter": "python",
   "pygments_lexer": "ipython3",
   "version": "3.8.5"
  }
 },
 "nbformat": 4,
 "nbformat_minor": 4
}
